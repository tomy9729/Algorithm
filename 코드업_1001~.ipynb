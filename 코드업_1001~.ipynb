{
  "nbformat": 4,
  "nbformat_minor": 0,
  "metadata": {
    "colab": {
      "name": "코드업 1001~",
      "provenance": [],
      "authorship_tag": "ABX9TyMu6yZ5I7xAIDa7AujLsp2r",
      "include_colab_link": true
    },
    "kernelspec": {
      "name": "python3",
      "display_name": "Python 3"
    }
  },
  "cells": [
    {
      "cell_type": "markdown",
      "metadata": {
        "id": "view-in-github",
        "colab_type": "text"
      },
      "source": [
        "<a href=\"https://colab.research.google.com/github/tomy9729/Moz1e/blob/master/%EC%BD%94%EB%93%9C%EC%97%85_1001~.ipynb\" target=\"_parent\"><img src=\"https://colab.research.google.com/assets/colab-badge.svg\" alt=\"Open In Colab\"/></a>"
      ]
    },
    {
      "cell_type": "code",
      "metadata": {
        "colab": {
          "base_uri": "https://localhost:8080/"
        },
        "id": "doYZZu9Gmp9C",
        "outputId": "c2a74610-6ffe-40c8-dae8-de4cc3e775f8"
      },
      "source": [
        "#1001\r\n",
        "print(\"Hello\")"
      ],
      "execution_count": 3,
      "outputs": [
        {
          "output_type": "stream",
          "text": [
            "Hello\n"
          ],
          "name": "stdout"
        }
      ]
    },
    {
      "cell_type": "markdown",
      "metadata": {
        "id": "gqNT_L8OnKWt"
      },
      "source": [
        ""
      ]
    },
    {
      "cell_type": "code",
      "metadata": {
        "colab": {
          "base_uri": "https://localhost:8080/"
        },
        "id": "dtanDuu_m_g7",
        "outputId": "484a1d17-5f22-4d88-fccc-568a5850f496"
      },
      "source": [
        "#1002\r\n",
        "print(\"Hello World\")"
      ],
      "execution_count": 4,
      "outputs": [
        {
          "output_type": "stream",
          "text": [
            "Hello World\n"
          ],
          "name": "stdout"
        }
      ]
    },
    {
      "cell_type": "code",
      "metadata": {
        "colab": {
          "base_uri": "https://localhost:8080/"
        },
        "id": "quPCSlbynvgi",
        "outputId": "f273439e-7a30-49d9-f865-b2c2bef8bcb4"
      },
      "source": [
        "#1003\r\n",
        "print(\"Hello\")\r\n",
        "print(\"World\")"
      ],
      "execution_count": 6,
      "outputs": [
        {
          "output_type": "stream",
          "text": [
            "Hello\n",
            "World\n"
          ],
          "name": "stdout"
        }
      ]
    },
    {
      "cell_type": "code",
      "metadata": {
        "colab": {
          "base_uri": "https://localhost:8080/"
        },
        "id": "Iz4_qh2QoHrk",
        "outputId": "019c03e9-b016-49b6-cca3-5001fb058b5e"
      },
      "source": [
        "#1004\r\n",
        "print(\"\\'Hello\\'\")"
      ],
      "execution_count": 7,
      "outputs": [
        {
          "output_type": "stream",
          "text": [
            "'Hello'\n"
          ],
          "name": "stdout"
        }
      ]
    },
    {
      "cell_type": "code",
      "metadata": {
        "colab": {
          "base_uri": "https://localhost:8080/"
        },
        "id": "lqFWEFUToU5E",
        "outputId": "fd4de9a0-2c16-49b2-b906-2fe108487d66"
      },
      "source": [
        "#1005\r\n",
        "print(\"\\\"Hello World\\\"\")\r\n"
      ],
      "execution_count": 8,
      "outputs": [
        {
          "output_type": "stream",
          "text": [
            "\"Hello World\"\n"
          ],
          "name": "stdout"
        }
      ]
    },
    {
      "cell_type": "code",
      "metadata": {
        "colab": {
          "base_uri": "https://localhost:8080/"
        },
        "id": "RmGDkn-8ofWk",
        "outputId": "e379cc78-63a6-491a-a0ee-936ccf494d0e"
      },
      "source": [
        "#1006\r\n",
        "print(\"\\\"!@#$%^&*()\\\"\")"
      ],
      "execution_count": 10,
      "outputs": [
        {
          "output_type": "stream",
          "text": [
            "\"!@#$%^&*()\"\n"
          ],
          "name": "stdout"
        }
      ]
    },
    {
      "cell_type": "code",
      "metadata": {
        "colab": {
          "base_uri": "https://localhost:8080/"
        },
        "id": "tOoe53VeorUs",
        "outputId": "fc1836cd-8be8-495a-dfd2-6223816ce153"
      },
      "source": [
        "#1007\r\n",
        "print(\"\\\"C:\\Download\\hello.cpp\\\"\")"
      ],
      "execution_count": 11,
      "outputs": [
        {
          "output_type": "stream",
          "text": [
            "\"C\\:\\Download\\hello.cpp\"\n"
          ],
          "name": "stdout"
        }
      ]
    },
    {
      "cell_type": "code",
      "metadata": {
        "colab": {
          "base_uri": "https://localhost:8080/"
        },
        "id": "YVaFHln4pHyb",
        "outputId": "f54774d5-f782-4553-e3b1-79b08e01a01d"
      },
      "source": [
        "#1008\r\n",
        "print(\"\\u250c\\u252c\\u2510\")\r\n",
        "print(\"\\u251c\\u253c\\u2524\")\r\n",
        "print(\"\\u2514\\u2534\\u2518\")"
      ],
      "execution_count": 25,
      "outputs": [
        {
          "output_type": "stream",
          "text": [
            "┌┬┐\n",
            "├┼┤\n",
            "└┴┘\n"
          ],
          "name": "stdout"
        }
      ]
    },
    {
      "cell_type": "code",
      "metadata": {
        "colab": {
          "base_uri": "https://localhost:8080/"
        },
        "id": "h-4-z6wspke8",
        "outputId": "f0374d65-2a8a-4144-8b90-09444819c9d4"
      },
      "source": [
        "#1010\r\n",
        "n = input()\r\n",
        "print(n)"
      ],
      "execution_count": 27,
      "outputs": [
        {
          "output_type": "stream",
          "text": [
            "15\n",
            "15\n"
          ],
          "name": "stdout"
        }
      ]
    },
    {
      "cell_type": "code",
      "metadata": {
        "colab": {
          "base_uri": "https://localhost:8080/"
        },
        "id": "AUN4GIbQqqqM",
        "outputId": "0aeb534b-6b8d-4246-ac22-62593d3923ba"
      },
      "source": [
        "#1011\r\n",
        "n = input()\r\n",
        "print(n)"
      ],
      "execution_count": 28,
      "outputs": [
        {
          "output_type": "stream",
          "text": [
            "a\n",
            "a\n"
          ],
          "name": "stdout"
        }
      ]
    },
    {
      "cell_type": "code",
      "metadata": {
        "colab": {
          "base_uri": "https://localhost:8080/"
        },
        "id": "-Qc4JcMZq2FU",
        "outputId": "464ec5fa-4c9b-44a9-e271-0a6bbcf10b00"
      },
      "source": [
        "#1012\r\n",
        "n = float(input())\r\n",
        "print(\"%f\"%n)"
      ],
      "execution_count": 40,
      "outputs": [
        {
          "output_type": "stream",
          "text": [
            "1.540000\n",
            "1.540000\n"
          ],
          "name": "stdout"
        }
      ]
    },
    {
      "cell_type": "code",
      "metadata": {
        "colab": {
          "base_uri": "https://localhost:8080/"
        },
        "id": "eokXhAW2q_Q0",
        "outputId": "bfea1bb6-1370-41bc-8eb1-036741b90d0e"
      },
      "source": [
        "#1013\r\n",
        "a,b = input().split()\r\n",
        "print(\"{} {}\".format(a,b))"
      ],
      "execution_count": 46,
      "outputs": [
        {
          "output_type": "stream",
          "text": [
            "1 2\n",
            "1 2\n"
          ],
          "name": "stdout"
        }
      ]
    },
    {
      "cell_type": "code",
      "metadata": {
        "colab": {
          "base_uri": "https://localhost:8080/"
        },
        "id": "H9-hyMy9tOUk",
        "outputId": "f307266d-9d45-45db-93ef-2a28d969284c"
      },
      "source": [
        "#1014\r\n",
        "a,b = input().split()\r\n",
        "print(\"{} {}\".format(b,a))"
      ],
      "execution_count": 47,
      "outputs": [
        {
          "output_type": "stream",
          "text": [
            "a v\n",
            "v a\n"
          ],
          "name": "stdout"
        }
      ]
    },
    {
      "cell_type": "code",
      "metadata": {
        "colab": {
          "base_uri": "https://localhost:8080/"
        },
        "id": "-wDCdvl-tiRr",
        "outputId": "78161c1c-e58c-48ef-d7ce-a5726ad38c7a"
      },
      "source": [
        "#1015\r\n",
        "n = float(input())\r\n",
        "print(\"%.2f\"%n)"
      ],
      "execution_count": 50,
      "outputs": [
        {
          "output_type": "stream",
          "text": [
            "1.59254\n",
            "1.59\n"
          ],
          "name": "stdout"
        }
      ]
    },
    {
      "cell_type": "code",
      "metadata": {
        "colab": {
          "base_uri": "https://localhost:8080/"
        },
        "id": "DVsPCQprtv7M",
        "outputId": "aefd9a6b-a68b-40d0-a8cc-186c1df34875"
      },
      "source": [
        "#1017\r\n",
        "a = input()\r\n",
        "print(\"{} {} {}\".format(a,a,a))"
      ],
      "execution_count": 52,
      "outputs": [
        {
          "output_type": "stream",
          "text": [
            "3\n",
            "3 3 3\n"
          ],
          "name": "stdout"
        }
      ]
    },
    {
      "cell_type": "code",
      "metadata": {
        "colab": {
          "base_uri": "https://localhost:8080/"
        },
        "id": "5dtkfb6auIbT",
        "outputId": "27897f9e-3df4-4a88-cb29-70eb88ae3bfb"
      },
      "source": [
        "#1018\r\n",
        "a = input()\r\n",
        "h = a.split(':')[0]\r\n",
        "m = a.split(':')[1]\r\n",
        "\r\n",
        "print(\"{}:{}\".format(h,m))"
      ],
      "execution_count": 58,
      "outputs": [
        {
          "output_type": "stream",
          "text": [
            "5:15\n",
            "5:15\n"
          ],
          "name": "stdout"
        }
      ]
    },
    {
      "cell_type": "code",
      "metadata": {
        "colab": {
          "base_uri": "https://localhost:8080/"
        },
        "id": "cHCyB8irug3b",
        "outputId": "d1039c37-926a-4f44-8060-d2225d5690bc"
      },
      "source": [
        "#1019\r\n",
        "a = input()\r\n",
        "y = int(a.split('.')[0])\r\n",
        "m = int(a.split('.')[1])\r\n",
        "d = int(a.split('.')[2])\r\n",
        "\r\n",
        "print(\"%04d.%02d.%02d\"%(y,m,d))"
      ],
      "execution_count": 65,
      "outputs": [
        {
          "output_type": "stream",
          "text": [
            "99.1.1\n",
            "0099.01.01\n"
          ],
          "name": "stdout"
        }
      ]
    },
    {
      "cell_type": "code",
      "metadata": {
        "colab": {
          "base_uri": "https://localhost:8080/"
        },
        "id": "-TdiN6GEwrii",
        "outputId": "0d12c00a-cd60-4511-cf3e-b292096d4de3"
      },
      "source": [
        "#1020\r\n",
        "a = input()\r\n",
        "print(\"{}{}\".format(a.split('-')[0],a.split('-')[1]))"
      ],
      "execution_count": 70,
      "outputs": [
        {
          "output_type": "stream",
          "text": [
            "000907-1121112\n",
            "0009071121112\n"
          ],
          "name": "stdout"
        }
      ]
    },
    {
      "cell_type": "code",
      "metadata": {
        "colab": {
          "base_uri": "https://localhost:8080/"
        },
        "id": "hdk3RJ1xyWpx",
        "outputId": "9cd22375-1dda-41d3-e97f-1778e2f6ce4f"
      },
      "source": [
        "#1021\r\n",
        "a = input()\r\n",
        "print(a)"
      ],
      "execution_count": 71,
      "outputs": [
        {
          "output_type": "stream",
          "text": [
            "home\n",
            "home\n"
          ],
          "name": "stdout"
        }
      ]
    },
    {
      "cell_type": "code",
      "metadata": {
        "colab": {
          "base_uri": "https://localhost:8080/"
        },
        "id": "BLgiYgFmyr1S",
        "outputId": "4f4cd31a-3199-4d8b-aedc-d1b41f15ea7f"
      },
      "source": [
        "#1022\r\n",
        "a = input()\r\n",
        "print(a)"
      ],
      "execution_count": 72,
      "outputs": [
        {
          "output_type": "stream",
          "text": [
            "hello world\n",
            "hello world\n"
          ],
          "name": "stdout"
        }
      ]
    },
    {
      "cell_type": "code",
      "metadata": {
        "colab": {
          "base_uri": "https://localhost:8080/"
        },
        "id": "VyNqjncWy_WC",
        "outputId": "ef49ed43-0721-423f-c596-f58a8e1523fc"
      },
      "source": [
        "#1023\r\n",
        "f = input()\r\n",
        "a = f.split('.')[0]\r\n",
        "b = f.split('.')[1]\r\n",
        "print(a)\r\n",
        "print(b)"
      ],
      "execution_count": 74,
      "outputs": [
        {
          "output_type": "stream",
          "text": [
            "1.005\n",
            "1\n",
            "005\n"
          ],
          "name": "stdout"
        }
      ]
    },
    {
      "cell_type": "code",
      "metadata": {
        "colab": {
          "base_uri": "https://localhost:8080/"
        },
        "id": "fT1Kf1fn2eq9",
        "outputId": "42fca49d-8556-4cd0-fcbe-62382df41a13"
      },
      "source": [
        "#1024\r\n",
        "n = input()\r\n",
        "m = list(n)\r\n",
        "for i in range(len(m)):\r\n",
        "  print(\"\\'{}\\'\".format(m[i]))"
      ],
      "execution_count": 80,
      "outputs": [
        {
          "output_type": "stream",
          "text": [
            "hello\n",
            "'h'\n",
            "'e'\n",
            "'l'\n",
            "'l'\n",
            "'o'\n"
          ],
          "name": "stdout"
        }
      ]
    },
    {
      "cell_type": "code",
      "metadata": {
        "colab": {
          "base_uri": "https://localhost:8080/"
        },
        "id": "GtqzuOKA4TSr",
        "outputId": "a1efcc3e-1fa3-4884-c2ec-25ab1bcb7501"
      },
      "source": [
        "#1025\r\n",
        "n = input()\r\n",
        "m = list(n)\r\n",
        "for i in range(len(m)):\r\n",
        "  print(\"[{}]\".format(int(m[i])*(10**(4-i))))"
      ],
      "execution_count": 86,
      "outputs": [
        {
          "output_type": "stream",
          "text": [
            "75254\n",
            "[70000]\n",
            "[5000]\n",
            "[200]\n",
            "[50]\n",
            "[4]\n"
          ],
          "name": "stdout"
        }
      ]
    },
    {
      "cell_type": "code",
      "metadata": {
        "colab": {
          "base_uri": "https://localhost:8080/"
        },
        "id": "kp01OTcJ7JNv",
        "outputId": "5127a60f-69e4-4488-abac-a0dddd8756d8"
      },
      "source": [
        "#1026\r\n",
        "n = input()\r\n",
        "m = n.split(':')[1]\r\n",
        "print(int(m))"
      ],
      "execution_count": 87,
      "outputs": [
        {
          "output_type": "stream",
          "text": [
            "17:26:14\n",
            "26\n"
          ],
          "name": "stdout"
        }
      ]
    },
    {
      "cell_type": "code",
      "metadata": {
        "colab": {
          "base_uri": "https://localhost:8080/"
        },
        "id": "Vzjp9Er18fqZ",
        "outputId": "ce9201f3-aa22-4e68-8c7b-3ba49422a7e3"
      },
      "source": [
        "#1027\r\n",
        "n = input()\r\n",
        "m = n.split(\".\")\r\n",
        "print(\"%02d-%02d-%04d\"%(int(m[2]),int(m[1]),int(m[0])))"
      ],
      "execution_count": 89,
      "outputs": [
        {
          "output_type": "stream",
          "text": [
            "2014.07.15\n",
            "15-07-2014\n"
          ],
          "name": "stdout"
        }
      ]
    },
    {
      "cell_type": "code",
      "metadata": {
        "colab": {
          "base_uri": "https://localhost:8080/"
        },
        "id": "DDBNhaNR9uzg",
        "outputId": "b70284c8-3a34-4f36-c42d-786641e4541c"
      },
      "source": [
        "#1028\r\n",
        "n = input()\r\n",
        "print(n)"
      ],
      "execution_count": 90,
      "outputs": [
        {
          "output_type": "stream",
          "text": [
            "4,294,967,295 \n",
            "4,294,967,295 \n"
          ],
          "name": "stdout"
        }
      ]
    },
    {
      "cell_type": "code",
      "metadata": {
        "colab": {
          "base_uri": "https://localhost:8080/"
        },
        "id": "fenGg-uFFd3x",
        "outputId": "0a20914b-5701-4a85-f92f-e9e678df2b69"
      },
      "source": [
        "#1029\r\n",
        "n = float(input())\r\n",
        "print(\"%.11lf\"%n)"
      ],
      "execution_count": 98,
      "outputs": [
        {
          "output_type": "stream",
          "text": [
            "123456.123123\n",
            "123456.12312300000\n"
          ],
          "name": "stdout"
        }
      ]
    },
    {
      "cell_type": "code",
      "metadata": {
        "colab": {
          "base_uri": "https://localhost:8080/"
        },
        "id": "_ErQ_Ad8Fn3X",
        "outputId": "ce3931ab-9eaa-4f1a-fc1f-8e7fc5b2e3fa"
      },
      "source": [
        "#1030\r\n",
        "n = input()\r\n",
        "print(n)"
      ],
      "execution_count": 99,
      "outputs": [
        {
          "output_type": "stream",
          "text": [
            "-2147483649\n",
            "-2147483649\n"
          ],
          "name": "stdout"
        }
      ]
    },
    {
      "cell_type": "code",
      "metadata": {
        "colab": {
          "base_uri": "https://localhost:8080/"
        },
        "id": "j7K3hR--Gkyv",
        "outputId": "0ccf5e4c-7bd3-458c-974f-e00b6975770a"
      },
      "source": [
        "#1031\r\n",
        "n = int(input())\r\n",
        "print(\"%o\"%n)"
      ],
      "execution_count": 101,
      "outputs": [
        {
          "output_type": "stream",
          "text": [
            "10\n",
            "12\n"
          ],
          "name": "stdout"
        }
      ]
    },
    {
      "cell_type": "code",
      "metadata": {
        "colab": {
          "base_uri": "https://localhost:8080/"
        },
        "id": "gAYtch9TGyBn",
        "outputId": "0a4feed0-7be0-46e6-b8c1-129dd98554b8"
      },
      "source": [
        "#1032\r\n",
        "n = int(input())\r\n",
        "print(\"%x\"%n)"
      ],
      "execution_count": 102,
      "outputs": [
        {
          "output_type": "stream",
          "text": [
            "10\n",
            "a\n"
          ],
          "name": "stdout"
        }
      ]
    },
    {
      "cell_type": "code",
      "metadata": {
        "colab": {
          "base_uri": "https://localhost:8080/"
        },
        "id": "PwrQ9YXzHC34",
        "outputId": "9a6ea96f-7a87-476e-f65b-827b018f26ac"
      },
      "source": [
        "#1033\r\n",
        "n = int(input())\r\n",
        "print(\"%X\"%n)"
      ],
      "execution_count": 103,
      "outputs": [
        {
          "output_type": "stream",
          "text": [
            "10\n",
            "A\n"
          ],
          "name": "stdout"
        }
      ]
    },
    {
      "cell_type": "code",
      "metadata": {
        "colab": {
          "base_uri": "https://localhost:8080/"
        },
        "id": "jwPl-nZUHJzX",
        "outputId": "9596882f-a907-42cb-c262-56d17779122d"
      },
      "source": [
        "#1034\r\n",
        "n = input()\r\n",
        "m = '0o' + n\r\n",
        "m = int(m,8)\r\n",
        "print(m)"
      ],
      "execution_count": 113,
      "outputs": [
        {
          "output_type": "stream",
          "text": [
            "13\n",
            "11\n"
          ],
          "name": "stdout"
        }
      ]
    },
    {
      "cell_type": "code",
      "metadata": {
        "colab": {
          "base_uri": "https://localhost:8080/"
        },
        "id": "1NL5CtPsH5Y3",
        "outputId": "a17a86f7-380c-418c-a734-b58fc60e3cf8"
      },
      "source": [
        "#1035\r\n",
        "n = input()\r\n",
        "m = '0x' + n\r\n",
        "m = int(m,16)\r\n",
        "l = oct(m)\r\n",
        "l = str(l)\r\n",
        "l=l.replace(\"0o\",\"\")\r\n",
        "print(l)"
      ],
      "execution_count": 125,
      "outputs": [
        {
          "output_type": "stream",
          "text": [
            "f\n",
            "17\n"
          ],
          "name": "stdout"
        }
      ]
    },
    {
      "cell_type": "code",
      "metadata": {
        "colab": {
          "base_uri": "https://localhost:8080/"
        },
        "id": "B_6_s2swJLEv",
        "outputId": "93c16b0d-4d6c-40c9-d1de-3f73e435a151"
      },
      "source": [
        "#1036\r\n",
        "n = input()\r\n",
        "print(ord(n))"
      ],
      "execution_count": 127,
      "outputs": [
        {
          "output_type": "stream",
          "text": [
            "A\n",
            "65\n"
          ],
          "name": "stdout"
        }
      ]
    },
    {
      "cell_type": "code",
      "metadata": {
        "colab": {
          "base_uri": "https://localhost:8080/"
        },
        "id": "xUY_2aRkSIWX",
        "outputId": "dbccc146-295f-4f77-e914-8c64759a418d"
      },
      "source": [
        "#1037\r\n",
        "n = input()\r\n",
        "print(chr(int(n)))"
      ],
      "execution_count": 129,
      "outputs": [
        {
          "output_type": "stream",
          "text": [
            "201\n",
            "É\n"
          ],
          "name": "stdout"
        }
      ]
    },
    {
      "cell_type": "code",
      "metadata": {
        "colab": {
          "base_uri": "https://localhost:8080/"
        },
        "id": "TZn-gQ7sSZ5E",
        "outputId": "d6f77962-6431-4035-f1d0-ae6334cbe801"
      },
      "source": [
        "#1038\r\n",
        "a,b = input().split()\r\n",
        "c = int(a)+int(b)\r\n",
        "print(c)"
      ],
      "execution_count": 132,
      "outputs": [
        {
          "output_type": "stream",
          "text": [
            "1073741824 1073741824\n",
            "2147483648\n"
          ],
          "name": "stdout"
        }
      ]
    },
    {
      "cell_type": "code",
      "metadata": {
        "colab": {
          "base_uri": "https://localhost:8080/"
        },
        "id": "SX0c4T5PTGUU",
        "outputId": "498bffc3-6959-4676-c8a8-0d1e1531eee1"
      },
      "source": [
        "#1039\r\n",
        "a,b = input().split()\r\n",
        "c = int(a)+int(b)\r\n",
        "print(c)"
      ],
      "execution_count": 133,
      "outputs": [
        {
          "output_type": "stream",
          "text": [
            "2147483648 2147483648\n",
            "4294967296\n"
          ],
          "name": "stdout"
        }
      ]
    },
    {
      "cell_type": "code",
      "metadata": {
        "colab": {
          "base_uri": "https://localhost:8080/",
          "height": 226
        },
        "id": "oMHyNgGsTrwl",
        "outputId": "12e501ea-3e07-4229-909f-b52cc335462b"
      },
      "source": [
        "#1040\r\n",
        "n = int(input())\r\n",
        "print(-n)"
      ],
      "execution_count": 134,
      "outputs": [
        {
          "output_type": "stream",
          "text": [
            "-1\n"
          ],
          "name": "stdout"
        },
        {
          "output_type": "error",
          "ename": "TypeError",
          "evalue": "ignored",
          "traceback": [
            "\u001b[0;31m---------------------------------------------------------------------------\u001b[0m",
            "\u001b[0;31mTypeError\u001b[0m                                 Traceback (most recent call last)",
            "\u001b[0;32m<ipython-input-134-063038e3c435>\u001b[0m in \u001b[0;36m<module>\u001b[0;34m()\u001b[0m\n\u001b[1;32m      1\u001b[0m \u001b[0;31m#1040\u001b[0m\u001b[0;34m\u001b[0m\u001b[0;34m\u001b[0m\u001b[0;34m\u001b[0m\u001b[0m\n\u001b[1;32m      2\u001b[0m \u001b[0mn\u001b[0m \u001b[0;34m=\u001b[0m \u001b[0minput\u001b[0m\u001b[0;34m(\u001b[0m\u001b[0;34m)\u001b[0m\u001b[0;34m\u001b[0m\u001b[0;34m\u001b[0m\u001b[0m\n\u001b[0;32m----> 3\u001b[0;31m \u001b[0mprint\u001b[0m\u001b[0;34m(\u001b[0m\u001b[0;34m-\u001b[0m\u001b[0mn\u001b[0m\u001b[0;34m)\u001b[0m\u001b[0;34m\u001b[0m\u001b[0;34m\u001b[0m\u001b[0m\n\u001b[0m",
            "\u001b[0;31mTypeError\u001b[0m: bad operand type for unary -: 'str'"
          ]
        }
      ]
    },
    {
      "cell_type": "code",
      "metadata": {
        "colab": {
          "base_uri": "https://localhost:8080/"
        },
        "id": "FP3TdyuWVqZO",
        "outputId": "e7c83e56-6e7c-4757-fb86-42c97f783510"
      },
      "source": [
        "#1041\r\n",
        "n = input()\r\n",
        "m = ord(n)\r\n",
        "m = m+1\r\n",
        "print(chr(m))"
      ],
      "execution_count": 135,
      "outputs": [
        {
          "output_type": "stream",
          "text": [
            "a\n",
            "b\n"
          ],
          "name": "stdout"
        }
      ]
    },
    {
      "cell_type": "code",
      "metadata": {
        "id": "dSqBEqcfWZI9"
      },
      "source": [
        "#1042"
      ],
      "execution_count": null,
      "outputs": []
    }
  ]
}